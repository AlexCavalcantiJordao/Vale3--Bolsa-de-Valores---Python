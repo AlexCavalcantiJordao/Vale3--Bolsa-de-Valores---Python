{
 "cells": [
  {
   "cell_type": "code",
   "execution_count": 1,
   "id": "63fb4517-2dc3-411d-99bf-2edf91220213",
   "metadata": {},
   "outputs": [],
   "source": [
    "# Importar as biblioteca necessárias...\n",
    "\n",
    "import pandas as pd\n",
    "import matplotlib.pyplot as plt"
   ]
  },
  {
   "cell_type": "code",
   "execution_count": null,
   "id": "46bc2f48-f498-4e36-a59f-4838d9e84341",
   "metadata": {},
   "outputs": [],
   "source": []
  }
 ],
 "metadata": {
  "kernelspec": {
   "display_name": "Python 3 (ipykernel)",
   "language": "python",
   "name": "python3"
  },
  "language_info": {
   "codemirror_mode": {
    "name": "ipython",
    "version": 3
   },
   "file_extension": ".py",
   "mimetype": "text/x-python",
   "name": "python",
   "nbconvert_exporter": "python",
   "pygments_lexer": "ipython3",
   "version": "3.12.7"
  }
 },
 "nbformat": 4,
 "nbformat_minor": 5
}
